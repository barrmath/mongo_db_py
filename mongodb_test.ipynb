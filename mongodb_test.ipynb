{
 "cells": [
  {
   "cell_type": "markdown",
   "metadata": {},
   "source": [
    "José est le gestionnaire de la base de données d'une entreprise qui vend des fournitures de<br>\n",
    "bureau. Il utilise MongoDB pour gérer les informations sur les produits, les ventes, et les<br>\n",
    "clients. La collection fournitures contient les documents suivants, représentant divers articles<br>\n",
    "que l'entreprise vend :<br>\n",
    "[<br>\n",
    "{ \"nom\": \"Stylo à bille\", \"marque\": \"Bic\", \"stock\": 100, \"categorie\": \"Écriture\", \"prix\":<br>\n",
    "1.25 },<br>\n",
    "{ \"nom\": \"Cahier A5\", \"marque\": \"Oxford\", \"stock\": 50, \"categorie\": \"Papeterie\",<br>\n",
    "\"prix\": 2.50 },<br>\n",
    "{ \"nom\": \"Marqueur permanent\", \"marque\": \"Sharpie\", \"stock\": 75, \"categorie\":<br>\n",
    "\"Écriture\", \"prix\": 1.75 },<br>\n",
    "{ \"nom\": \"Calculatrice scientifique\", \"marque\": \"Casio\", \"stock\": 30, \"categorie\":<br>\n",
    "\"Électronique\", \"prix\": 15.00 },<br>\n",
    "{ \"nom\": \"Pack de 500 feuilles A4\", \"marque\": \"Navigator\", \"stock\": 150, \"categorie\":<br>\n",
    "\"Papeterie\", \"prix\": 5.00 }<br>\n",
    "]<br>"
   ]
  },
  {
   "cell_type": "markdown",
   "metadata": {},
   "source": [
    "# test avec mongoDb en local\n"
   ]
  },
  {
   "cell_type": "markdown",
   "metadata": {},
   "source": [
    "executer la commande podman-compose up -d dans un terminal avant de lancer le notebook. "
   ]
  },
  {
   "cell_type": "code",
   "execution_count": 1,
   "metadata": {},
   "outputs": [],
   "source": [
    "# import des bibliothèques\n",
    "from pymongo import MongoClient\n",
    "import pandas as pd\n",
    "import numpy as np"
   ]
  },
  {
   "cell_type": "code",
   "execution_count": 2,
   "metadata": {},
   "outputs": [],
   "source": [
    "# connection a mongoDB\n",
    "client = MongoClient(host='localhost',port=8090 ,username='utilisateur', password ='motdepasse')"
   ]
  },
  {
   "cell_type": "code",
   "execution_count": 3,
   "metadata": {},
   "outputs": [],
   "source": [
    "# création database\n",
    "db_name = client[\"inventairejosé\"]"
   ]
  },
  {
   "cell_type": "code",
   "execution_count": 4,
   "metadata": {},
   "outputs": [],
   "source": [
    "# création dictionnaire pour envoyer en tant que document\n",
    "base_dict = ({ \"nom\": \"Stylo à bille\", \"marque\": \"Bic\", \"stock\": 100, \"categorie\": \"Écriture\", \"prix\":\n",
    "1.25 },\n",
    "{ \"nom\": \"Cahier A5\", \"marque\": \"Oxford\", \"stock\": 50, \"categorie\": \"Papeterie\",\n",
    "\"prix\": 2.50 },\n",
    "{ \"nom\": \"Marqueur permanent\", \"marque\": \"Sharpie\", \"stock\": 75, \"categorie\":\n",
    "\"Écriture\", \"prix\": 1.75 },\n",
    "{ \"nom\": \"Calculatrice scientifique\", \"marque\": \"Casio\", \"stock\": 30, \"categorie\":\n",
    "\"Électronique\", \"prix\": 15.00 },\n",
    "{ \"nom\": \"Pack de 500 feuilles A4\", \"marque\": \"Navigator\", \"stock\": 150, \"categorie\":\n",
    "\"Papeterie\", \"prix\": 5.00 })"
   ]
  },
  {
   "cell_type": "code",
   "execution_count": 5,
   "metadata": {},
   "outputs": [
    {
     "data": {
      "text/plain": [
       "InsertManyResult([ObjectId('663908ea39820962ca02bacb'), ObjectId('663908ea39820962ca02bacc'), ObjectId('663908ea39820962ca02bacd'), ObjectId('663908ea39820962ca02bace'), ObjectId('663908ea39820962ca02bacf')], acknowledged=True)"
      ]
     },
     "execution_count": 5,
     "metadata": {},
     "output_type": "execute_result"
    }
   ],
   "source": [
    "#creation collection\n",
    "collection_jose = db_name[\"josé_items\"]\n",
    "# supression des documents de la collection pour eviter les doublons\n",
    "collection_jose.delete_many({})\n",
    "# insertion des documents disct\n",
    "collection_jose.insert_many(base_dict)"
   ]
  },
  {
   "cell_type": "markdown",
   "metadata": {},
   "source": [
    "# Lecture collection à José"
   ]
  },
  {
   "cell_type": "code",
   "execution_count": 6,
   "metadata": {},
   "outputs": [
    {
     "name": "stdout",
     "output_type": "stream",
     "text": [
      "{'_id': ObjectId('663908ea39820962ca02bacb'), 'nom': 'Stylo à bille', 'marque': 'Bic', 'stock': 100, 'categorie': 'Écriture', 'prix': 1.25}\n",
      "{'_id': ObjectId('663908ea39820962ca02bacc'), 'nom': 'Cahier A5', 'marque': 'Oxford', 'stock': 50, 'categorie': 'Papeterie', 'prix': 2.5}\n",
      "{'_id': ObjectId('663908ea39820962ca02bacd'), 'nom': 'Marqueur permanent', 'marque': 'Sharpie', 'stock': 75, 'categorie': 'Écriture', 'prix': 1.75}\n",
      "{'_id': ObjectId('663908ea39820962ca02bace'), 'nom': 'Calculatrice scientifique', 'marque': 'Casio', 'stock': 30, 'categorie': 'Électronique', 'prix': 15.0}\n",
      "{'_id': ObjectId('663908ea39820962ca02bacf'), 'nom': 'Pack de 500 feuilles A4', 'marque': 'Navigator', 'stock': 150, 'categorie': 'Papeterie', 'prix': 5.0}\n"
     ]
    }
   ],
   "source": [
    "# Lecture des documents en mode texte\n",
    "find = collection_jose.find()\n",
    "for ligne in find:\n",
    "    print(ligne)"
   ]
  },
  {
   "cell_type": "code",
   "execution_count": 7,
   "metadata": {},
   "outputs": [
    {
     "data": {
      "text/html": [
       "<div>\n",
       "<style scoped>\n",
       "    .dataframe tbody tr th:only-of-type {\n",
       "        vertical-align: middle;\n",
       "    }\n",
       "\n",
       "    .dataframe tbody tr th {\n",
       "        vertical-align: top;\n",
       "    }\n",
       "\n",
       "    .dataframe thead th {\n",
       "        text-align: right;\n",
       "    }\n",
       "</style>\n",
       "<table border=\"1\" class=\"dataframe\">\n",
       "  <thead>\n",
       "    <tr style=\"text-align: right;\">\n",
       "      <th></th>\n",
       "      <th>_id</th>\n",
       "      <th>nom</th>\n",
       "      <th>marque</th>\n",
       "      <th>stock</th>\n",
       "      <th>categorie</th>\n",
       "      <th>prix</th>\n",
       "    </tr>\n",
       "  </thead>\n",
       "  <tbody>\n",
       "    <tr>\n",
       "      <th>0</th>\n",
       "      <td>663908ea39820962ca02bacb</td>\n",
       "      <td>Stylo à bille</td>\n",
       "      <td>Bic</td>\n",
       "      <td>100</td>\n",
       "      <td>Écriture</td>\n",
       "      <td>1.25</td>\n",
       "    </tr>\n",
       "    <tr>\n",
       "      <th>1</th>\n",
       "      <td>663908ea39820962ca02bacc</td>\n",
       "      <td>Cahier A5</td>\n",
       "      <td>Oxford</td>\n",
       "      <td>50</td>\n",
       "      <td>Papeterie</td>\n",
       "      <td>2.50</td>\n",
       "    </tr>\n",
       "    <tr>\n",
       "      <th>2</th>\n",
       "      <td>663908ea39820962ca02bacd</td>\n",
       "      <td>Marqueur permanent</td>\n",
       "      <td>Sharpie</td>\n",
       "      <td>75</td>\n",
       "      <td>Écriture</td>\n",
       "      <td>1.75</td>\n",
       "    </tr>\n",
       "    <tr>\n",
       "      <th>3</th>\n",
       "      <td>663908ea39820962ca02bace</td>\n",
       "      <td>Calculatrice scientifique</td>\n",
       "      <td>Casio</td>\n",
       "      <td>30</td>\n",
       "      <td>Électronique</td>\n",
       "      <td>15.00</td>\n",
       "    </tr>\n",
       "    <tr>\n",
       "      <th>4</th>\n",
       "      <td>663908ea39820962ca02bacf</td>\n",
       "      <td>Pack de 500 feuilles A4</td>\n",
       "      <td>Navigator</td>\n",
       "      <td>150</td>\n",
       "      <td>Papeterie</td>\n",
       "      <td>5.00</td>\n",
       "    </tr>\n",
       "  </tbody>\n",
       "</table>\n",
       "</div>"
      ],
      "text/plain": [
       "                        _id                        nom     marque  stock  \\\n",
       "0  663908ea39820962ca02bacb              Stylo à bille        Bic    100   \n",
       "1  663908ea39820962ca02bacc                  Cahier A5     Oxford     50   \n",
       "2  663908ea39820962ca02bacd         Marqueur permanent    Sharpie     75   \n",
       "3  663908ea39820962ca02bace  Calculatrice scientifique      Casio     30   \n",
       "4  663908ea39820962ca02bacf    Pack de 500 feuilles A4  Navigator    150   \n",
       "\n",
       "      categorie   prix  \n",
       "0      Écriture   1.25  \n",
       "1     Papeterie   2.50  \n",
       "2      Écriture   1.75  \n",
       "3  Électronique  15.00  \n",
       "4     Papeterie   5.00  "
      ]
     },
     "execution_count": 7,
     "metadata": {},
     "output_type": "execute_result"
    }
   ],
   "source": [
    "#vue pandas :\n",
    "mongodf = pd.DataFrame(list(collection_jose.find()))\n",
    "mongodf.head(10)"
   ]
  },
  {
   "cell_type": "markdown",
   "metadata": {},
   "source": [
    "José a reçu un nouveau stock de \"Stylos à bille\" et doit mettre à jour la quantité en\n",
    "stock. Comment augmenterait-il le stock de 50 unités pour cet article?"
   ]
  },
  {
   "cell_type": "code",
   "execution_count": 8,
   "metadata": {},
   "outputs": [
    {
     "data": {
      "text/plain": [
       "UpdateResult({'n': 1, 'nModified': 1, 'ok': 1.0, 'updatedExisting': True}, acknowledged=True)"
      ]
     },
     "execution_count": 8,
     "metadata": {},
     "output_type": "execute_result"
    }
   ],
   "source": [
    "collection_jose.update_one({'nom':'Stylo à bille'},{'$inc': {'stock': 50}}, upsert=True)"
   ]
  },
  {
   "cell_type": "code",
   "execution_count": 9,
   "metadata": {},
   "outputs": [
    {
     "data": {
      "text/html": [
       "<div>\n",
       "<style scoped>\n",
       "    .dataframe tbody tr th:only-of-type {\n",
       "        vertical-align: middle;\n",
       "    }\n",
       "\n",
       "    .dataframe tbody tr th {\n",
       "        vertical-align: top;\n",
       "    }\n",
       "\n",
       "    .dataframe thead th {\n",
       "        text-align: right;\n",
       "    }\n",
       "</style>\n",
       "<table border=\"1\" class=\"dataframe\">\n",
       "  <thead>\n",
       "    <tr style=\"text-align: right;\">\n",
       "      <th></th>\n",
       "      <th>_id</th>\n",
       "      <th>nom</th>\n",
       "      <th>marque</th>\n",
       "      <th>stock</th>\n",
       "      <th>categorie</th>\n",
       "      <th>prix</th>\n",
       "    </tr>\n",
       "  </thead>\n",
       "  <tbody>\n",
       "    <tr>\n",
       "      <th>0</th>\n",
       "      <td>663908ea39820962ca02bacb</td>\n",
       "      <td>Stylo à bille</td>\n",
       "      <td>Bic</td>\n",
       "      <td>150</td>\n",
       "      <td>Écriture</td>\n",
       "      <td>1.25</td>\n",
       "    </tr>\n",
       "    <tr>\n",
       "      <th>1</th>\n",
       "      <td>663908ea39820962ca02bacc</td>\n",
       "      <td>Cahier A5</td>\n",
       "      <td>Oxford</td>\n",
       "      <td>50</td>\n",
       "      <td>Papeterie</td>\n",
       "      <td>2.50</td>\n",
       "    </tr>\n",
       "    <tr>\n",
       "      <th>2</th>\n",
       "      <td>663908ea39820962ca02bacd</td>\n",
       "      <td>Marqueur permanent</td>\n",
       "      <td>Sharpie</td>\n",
       "      <td>75</td>\n",
       "      <td>Écriture</td>\n",
       "      <td>1.75</td>\n",
       "    </tr>\n",
       "    <tr>\n",
       "      <th>3</th>\n",
       "      <td>663908ea39820962ca02bace</td>\n",
       "      <td>Calculatrice scientifique</td>\n",
       "      <td>Casio</td>\n",
       "      <td>30</td>\n",
       "      <td>Électronique</td>\n",
       "      <td>15.00</td>\n",
       "    </tr>\n",
       "    <tr>\n",
       "      <th>4</th>\n",
       "      <td>663908ea39820962ca02bacf</td>\n",
       "      <td>Pack de 500 feuilles A4</td>\n",
       "      <td>Navigator</td>\n",
       "      <td>150</td>\n",
       "      <td>Papeterie</td>\n",
       "      <td>5.00</td>\n",
       "    </tr>\n",
       "  </tbody>\n",
       "</table>\n",
       "</div>"
      ],
      "text/plain": [
       "                        _id                        nom     marque  stock  \\\n",
       "0  663908ea39820962ca02bacb              Stylo à bille        Bic    150   \n",
       "1  663908ea39820962ca02bacc                  Cahier A5     Oxford     50   \n",
       "2  663908ea39820962ca02bacd         Marqueur permanent    Sharpie     75   \n",
       "3  663908ea39820962ca02bace  Calculatrice scientifique      Casio     30   \n",
       "4  663908ea39820962ca02bacf    Pack de 500 feuilles A4  Navigator    150   \n",
       "\n",
       "      categorie   prix  \n",
       "0      Écriture   1.25  \n",
       "1     Papeterie   2.50  \n",
       "2      Écriture   1.75  \n",
       "3  Électronique  15.00  \n",
       "4     Papeterie   5.00  "
      ]
     },
     "execution_count": 9,
     "metadata": {},
     "output_type": "execute_result"
    }
   ],
   "source": [
    "mongodf = pd.DataFrame(list(collection_jose.find()))\n",
    "mongodf.head(10)"
   ]
  },
  {
   "cell_type": "markdown",
   "metadata": {},
   "source": [
    "Pour une promotion, José souhaite supprimer les taxes des produits dont le prix est\n",
    "inférieur à 2 euros. Comment pourrait-il supprimer le champ `prix` de ces produits\n",
    "spécifiques?"
   ]
  },
  {
   "cell_type": "code",
   "execution_count": 10,
   "metadata": {},
   "outputs": [
    {
     "data": {
      "text/html": [
       "<div>\n",
       "<style scoped>\n",
       "    .dataframe tbody tr th:only-of-type {\n",
       "        vertical-align: middle;\n",
       "    }\n",
       "\n",
       "    .dataframe tbody tr th {\n",
       "        vertical-align: top;\n",
       "    }\n",
       "\n",
       "    .dataframe thead th {\n",
       "        text-align: right;\n",
       "    }\n",
       "</style>\n",
       "<table border=\"1\" class=\"dataframe\">\n",
       "  <thead>\n",
       "    <tr style=\"text-align: right;\">\n",
       "      <th></th>\n",
       "      <th>_id</th>\n",
       "      <th>nom</th>\n",
       "      <th>marque</th>\n",
       "      <th>stock</th>\n",
       "      <th>categorie</th>\n",
       "      <th>prix</th>\n",
       "    </tr>\n",
       "  </thead>\n",
       "  <tbody>\n",
       "    <tr>\n",
       "      <th>0</th>\n",
       "      <td>663908ea39820962ca02bacb</td>\n",
       "      <td>Stylo à bille</td>\n",
       "      <td>Bic</td>\n",
       "      <td>150</td>\n",
       "      <td>Écriture</td>\n",
       "      <td>NaN</td>\n",
       "    </tr>\n",
       "    <tr>\n",
       "      <th>1</th>\n",
       "      <td>663908ea39820962ca02bacc</td>\n",
       "      <td>Cahier A5</td>\n",
       "      <td>Oxford</td>\n",
       "      <td>50</td>\n",
       "      <td>Papeterie</td>\n",
       "      <td>2.5</td>\n",
       "    </tr>\n",
       "    <tr>\n",
       "      <th>2</th>\n",
       "      <td>663908ea39820962ca02bacd</td>\n",
       "      <td>Marqueur permanent</td>\n",
       "      <td>Sharpie</td>\n",
       "      <td>75</td>\n",
       "      <td>Écriture</td>\n",
       "      <td>NaN</td>\n",
       "    </tr>\n",
       "    <tr>\n",
       "      <th>3</th>\n",
       "      <td>663908ea39820962ca02bace</td>\n",
       "      <td>Calculatrice scientifique</td>\n",
       "      <td>Casio</td>\n",
       "      <td>30</td>\n",
       "      <td>Électronique</td>\n",
       "      <td>15.0</td>\n",
       "    </tr>\n",
       "    <tr>\n",
       "      <th>4</th>\n",
       "      <td>663908ea39820962ca02bacf</td>\n",
       "      <td>Pack de 500 feuilles A4</td>\n",
       "      <td>Navigator</td>\n",
       "      <td>150</td>\n",
       "      <td>Papeterie</td>\n",
       "      <td>5.0</td>\n",
       "    </tr>\n",
       "  </tbody>\n",
       "</table>\n",
       "</div>"
      ],
      "text/plain": [
       "                        _id                        nom     marque  stock  \\\n",
       "0  663908ea39820962ca02bacb              Stylo à bille        Bic    150   \n",
       "1  663908ea39820962ca02bacc                  Cahier A5     Oxford     50   \n",
       "2  663908ea39820962ca02bacd         Marqueur permanent    Sharpie     75   \n",
       "3  663908ea39820962ca02bace  Calculatrice scientifique      Casio     30   \n",
       "4  663908ea39820962ca02bacf    Pack de 500 feuilles A4  Navigator    150   \n",
       "\n",
       "      categorie  prix  \n",
       "0      Écriture   NaN  \n",
       "1     Papeterie   2.5  \n",
       "2      Écriture   NaN  \n",
       "3  Électronique  15.0  \n",
       "4     Papeterie   5.0  "
      ]
     },
     "execution_count": 10,
     "metadata": {},
     "output_type": "execute_result"
    }
   ],
   "source": [
    "# si vous voulez changer la collection :\n",
    "# collection_jose.update_many({'prix':{'$lt':2}},{'$unset':{'prix':1}},upsert=False)\n",
    "# mongodf = pd.DataFrame(list(collection_jose.find()))\n",
    "# mongodf.head(10)\n",
    "\n",
    "#juste un affichage :\n",
    "mongodf.loc[mongodf['prix']<2,'prix'] = np.nan\n",
    "mongodf.head(10)"
   ]
  },
  {
   "cell_type": "markdown",
   "metadata": {},
   "source": [
    "Il a besoin de calculer le stock total disponible pour la catégorie 'Écriture'. Quelle\n",
    "commande d'agrégation utiliserait-il?"
   ]
  },
  {
   "cell_type": "code",
   "execution_count": 11,
   "metadata": {},
   "outputs": [
    {
     "data": {
      "text/html": [
       "<div>\n",
       "<style scoped>\n",
       "    .dataframe tbody tr th:only-of-type {\n",
       "        vertical-align: middle;\n",
       "    }\n",
       "\n",
       "    .dataframe tbody tr th {\n",
       "        vertical-align: top;\n",
       "    }\n",
       "\n",
       "    .dataframe thead th {\n",
       "        text-align: right;\n",
       "    }\n",
       "</style>\n",
       "<table border=\"1\" class=\"dataframe\">\n",
       "  <thead>\n",
       "    <tr style=\"text-align: right;\">\n",
       "      <th></th>\n",
       "      <th>nom</th>\n",
       "      <th>marque</th>\n",
       "      <th>_id</th>\n",
       "      <th>stock</th>\n",
       "      <th>categorie</th>\n",
       "      <th>prix</th>\n",
       "    </tr>\n",
       "  </thead>\n",
       "  <tbody>\n",
       "    <tr>\n",
       "      <th>0</th>\n",
       "      <td>Marqueur permanent</td>\n",
       "      <td>Sharpie</td>\n",
       "      <td>663908ea39820962ca02bacd</td>\n",
       "      <td>75</td>\n",
       "      <td>Écriture</td>\n",
       "      <td>1.75</td>\n",
       "    </tr>\n",
       "    <tr>\n",
       "      <th>1</th>\n",
       "      <td>Stylo à bille</td>\n",
       "      <td>Bic</td>\n",
       "      <td>663908ea39820962ca02bacb</td>\n",
       "      <td>150</td>\n",
       "      <td>Écriture</td>\n",
       "      <td>1.25</td>\n",
       "    </tr>\n",
       "  </tbody>\n",
       "</table>\n",
       "</div>"
      ],
      "text/plain": [
       "                  nom   marque                       _id  stock categorie  \\\n",
       "0  Marqueur permanent  Sharpie  663908ea39820962ca02bacd     75  Écriture   \n",
       "1       Stylo à bille      Bic  663908ea39820962ca02bacb    150  Écriture   \n",
       "\n",
       "   prix  \n",
       "0  1.75  \n",
       "1  1.25  "
      ]
     },
     "execution_count": 11,
     "metadata": {},
     "output_type": "execute_result"
    }
   ],
   "source": [
    "mongodf = pd.DataFrame(list(collection_jose.find()))\n",
    "mongodf[mongodf['categorie']=='Écriture'].groupby(by=['nom','marque']).sum().reset_index()"
   ]
  },
  {
   "cell_type": "code",
   "execution_count": 12,
   "metadata": {},
   "outputs": [
    {
     "name": "stdout",
     "output_type": "stream",
     "text": [
      "{'_id': ['Écriture', 'Sharpie'], 'stock': 75}\n",
      "{'_id': ['Écriture', 'Bic'], 'stock': 150}\n"
     ]
    }
   ],
   "source": [
    "# aggrégation version mongo\n",
    "curseur_agreg = collection_jose.aggregate([\n",
    "    {\"$match\" :{\"categorie\":\"Écriture\"}},\n",
    "    {\"$group\": {\"_id\": (\"$categorie\",\"$marque\"),\n",
    "              \"stock\": {'$sum':'$stock'}}\n",
    "    }\n",
    "])\n",
    "\n",
    "for ligne in curseur_agreg:\n",
    "    print(ligne)"
   ]
  },
  {
   "cell_type": "markdown",
   "metadata": {},
   "source": [
    "José veut ajouter un nouveau produit : `{ \"nom\": \"Ruban adhésif\", \"marque\": \"Scotch\",\n",
    "\"stock\": 40, \"categorie\": \"Papeterie\", \"prix\": 3.75 }`. Quelle commande doit-il exécuter?"
   ]
  },
  {
   "cell_type": "code",
   "execution_count": 13,
   "metadata": {},
   "outputs": [
    {
     "data": {
      "text/plain": [
       "InsertOneResult(ObjectId('663908eb39820962ca02bad0'), acknowledged=True)"
      ]
     },
     "execution_count": 13,
     "metadata": {},
     "output_type": "execute_result"
    }
   ],
   "source": [
    "dict_ajout = { \"nom\": \"Ruban adhésif\", \"marque\": \"Scotch\",\n",
    "\"stock\": 40, \"categorie\": \"Papeterie\", \"prix\": 3.75 }\n",
    "collection_jose.insert_one(dict_ajout)"
   ]
  },
  {
   "cell_type": "code",
   "execution_count": 14,
   "metadata": {},
   "outputs": [
    {
     "data": {
      "text/html": [
       "<div>\n",
       "<style scoped>\n",
       "    .dataframe tbody tr th:only-of-type {\n",
       "        vertical-align: middle;\n",
       "    }\n",
       "\n",
       "    .dataframe tbody tr th {\n",
       "        vertical-align: top;\n",
       "    }\n",
       "\n",
       "    .dataframe thead th {\n",
       "        text-align: right;\n",
       "    }\n",
       "</style>\n",
       "<table border=\"1\" class=\"dataframe\">\n",
       "  <thead>\n",
       "    <tr style=\"text-align: right;\">\n",
       "      <th></th>\n",
       "      <th>_id</th>\n",
       "      <th>nom</th>\n",
       "      <th>marque</th>\n",
       "      <th>stock</th>\n",
       "      <th>categorie</th>\n",
       "      <th>prix</th>\n",
       "    </tr>\n",
       "  </thead>\n",
       "  <tbody>\n",
       "    <tr>\n",
       "      <th>0</th>\n",
       "      <td>663908ea39820962ca02bacb</td>\n",
       "      <td>Stylo à bille</td>\n",
       "      <td>Bic</td>\n",
       "      <td>150</td>\n",
       "      <td>Écriture</td>\n",
       "      <td>1.25</td>\n",
       "    </tr>\n",
       "    <tr>\n",
       "      <th>1</th>\n",
       "      <td>663908ea39820962ca02bacc</td>\n",
       "      <td>Cahier A5</td>\n",
       "      <td>Oxford</td>\n",
       "      <td>50</td>\n",
       "      <td>Papeterie</td>\n",
       "      <td>2.50</td>\n",
       "    </tr>\n",
       "    <tr>\n",
       "      <th>2</th>\n",
       "      <td>663908ea39820962ca02bacd</td>\n",
       "      <td>Marqueur permanent</td>\n",
       "      <td>Sharpie</td>\n",
       "      <td>75</td>\n",
       "      <td>Écriture</td>\n",
       "      <td>1.75</td>\n",
       "    </tr>\n",
       "    <tr>\n",
       "      <th>3</th>\n",
       "      <td>663908ea39820962ca02bace</td>\n",
       "      <td>Calculatrice scientifique</td>\n",
       "      <td>Casio</td>\n",
       "      <td>30</td>\n",
       "      <td>Électronique</td>\n",
       "      <td>15.00</td>\n",
       "    </tr>\n",
       "    <tr>\n",
       "      <th>4</th>\n",
       "      <td>663908ea39820962ca02bacf</td>\n",
       "      <td>Pack de 500 feuilles A4</td>\n",
       "      <td>Navigator</td>\n",
       "      <td>150</td>\n",
       "      <td>Papeterie</td>\n",
       "      <td>5.00</td>\n",
       "    </tr>\n",
       "    <tr>\n",
       "      <th>5</th>\n",
       "      <td>663908eb39820962ca02bad0</td>\n",
       "      <td>Ruban adhésif</td>\n",
       "      <td>Scotch</td>\n",
       "      <td>40</td>\n",
       "      <td>Papeterie</td>\n",
       "      <td>3.75</td>\n",
       "    </tr>\n",
       "  </tbody>\n",
       "</table>\n",
       "</div>"
      ],
      "text/plain": [
       "                        _id                        nom     marque  stock  \\\n",
       "0  663908ea39820962ca02bacb              Stylo à bille        Bic    150   \n",
       "1  663908ea39820962ca02bacc                  Cahier A5     Oxford     50   \n",
       "2  663908ea39820962ca02bacd         Marqueur permanent    Sharpie     75   \n",
       "3  663908ea39820962ca02bace  Calculatrice scientifique      Casio     30   \n",
       "4  663908ea39820962ca02bacf    Pack de 500 feuilles A4  Navigator    150   \n",
       "5  663908eb39820962ca02bad0              Ruban adhésif     Scotch     40   \n",
       "\n",
       "      categorie   prix  \n",
       "0      Écriture   1.25  \n",
       "1     Papeterie   2.50  \n",
       "2      Écriture   1.75  \n",
       "3  Électronique  15.00  \n",
       "4     Papeterie   5.00  \n",
       "5     Papeterie   3.75  "
      ]
     },
     "execution_count": 14,
     "metadata": {},
     "output_type": "execute_result"
    }
   ],
   "source": [
    "mongodf = pd.DataFrame(list(collection_jose.find()))\n",
    "mongodf.head(10)"
   ]
  },
  {
   "cell_type": "markdown",
   "metadata": {},
   "source": [
    "Pour optimiser les recherches par catégorie, quel index José devrait-il créer?<br>\n",
    "<br>\n",
    "Je pense qu'il devrais faire un index text avec la colonne categorie\n"
   ]
  },
  {
   "cell_type": "code",
   "execution_count": 15,
   "metadata": {},
   "outputs": [
    {
     "data": {
      "text/plain": [
       "'categorie_1'"
      ]
     },
     "execution_count": 15,
     "metadata": {},
     "output_type": "execute_result"
    }
   ],
   "source": [
    "collection_jose.create_index('categorie')"
   ]
  },
  {
   "cell_type": "markdown",
   "metadata": {},
   "source": [
    "Comment José pourrait-il mettre à jour le prix du \"Marqueur permanent\" pour\n",
    "augmenter de 10%?"
   ]
  },
  {
   "cell_type": "code",
   "execution_count": 16,
   "metadata": {},
   "outputs": [
    {
     "data": {
      "text/plain": [
       "UpdateResult({'n': 1, 'nModified': 1, 'ok': 1.0, 'updatedExisting': True}, acknowledged=True)"
      ]
     },
     "execution_count": 16,
     "metadata": {},
     "output_type": "execute_result"
    }
   ],
   "source": [
    "collection_jose.update_one({'nom':'Marqueur permanent'},{'$mul': {'prix': 1.1}}, upsert=True)"
   ]
  },
  {
   "cell_type": "code",
   "execution_count": 17,
   "metadata": {},
   "outputs": [
    {
     "data": {
      "text/html": [
       "<div>\n",
       "<style scoped>\n",
       "    .dataframe tbody tr th:only-of-type {\n",
       "        vertical-align: middle;\n",
       "    }\n",
       "\n",
       "    .dataframe tbody tr th {\n",
       "        vertical-align: top;\n",
       "    }\n",
       "\n",
       "    .dataframe thead th {\n",
       "        text-align: right;\n",
       "    }\n",
       "</style>\n",
       "<table border=\"1\" class=\"dataframe\">\n",
       "  <thead>\n",
       "    <tr style=\"text-align: right;\">\n",
       "      <th></th>\n",
       "      <th>_id</th>\n",
       "      <th>nom</th>\n",
       "      <th>marque</th>\n",
       "      <th>stock</th>\n",
       "      <th>categorie</th>\n",
       "      <th>prix</th>\n",
       "    </tr>\n",
       "  </thead>\n",
       "  <tbody>\n",
       "    <tr>\n",
       "      <th>0</th>\n",
       "      <td>663908ea39820962ca02bacb</td>\n",
       "      <td>Stylo à bille</td>\n",
       "      <td>Bic</td>\n",
       "      <td>150</td>\n",
       "      <td>Écriture</td>\n",
       "      <td>1.250</td>\n",
       "    </tr>\n",
       "    <tr>\n",
       "      <th>1</th>\n",
       "      <td>663908ea39820962ca02bacc</td>\n",
       "      <td>Cahier A5</td>\n",
       "      <td>Oxford</td>\n",
       "      <td>50</td>\n",
       "      <td>Papeterie</td>\n",
       "      <td>2.500</td>\n",
       "    </tr>\n",
       "    <tr>\n",
       "      <th>2</th>\n",
       "      <td>663908ea39820962ca02bacd</td>\n",
       "      <td>Marqueur permanent</td>\n",
       "      <td>Sharpie</td>\n",
       "      <td>75</td>\n",
       "      <td>Écriture</td>\n",
       "      <td>1.925</td>\n",
       "    </tr>\n",
       "    <tr>\n",
       "      <th>3</th>\n",
       "      <td>663908ea39820962ca02bace</td>\n",
       "      <td>Calculatrice scientifique</td>\n",
       "      <td>Casio</td>\n",
       "      <td>30</td>\n",
       "      <td>Électronique</td>\n",
       "      <td>15.000</td>\n",
       "    </tr>\n",
       "    <tr>\n",
       "      <th>4</th>\n",
       "      <td>663908ea39820962ca02bacf</td>\n",
       "      <td>Pack de 500 feuilles A4</td>\n",
       "      <td>Navigator</td>\n",
       "      <td>150</td>\n",
       "      <td>Papeterie</td>\n",
       "      <td>5.000</td>\n",
       "    </tr>\n",
       "    <tr>\n",
       "      <th>5</th>\n",
       "      <td>663908eb39820962ca02bad0</td>\n",
       "      <td>Ruban adhésif</td>\n",
       "      <td>Scotch</td>\n",
       "      <td>40</td>\n",
       "      <td>Papeterie</td>\n",
       "      <td>3.750</td>\n",
       "    </tr>\n",
       "  </tbody>\n",
       "</table>\n",
       "</div>"
      ],
      "text/plain": [
       "                        _id                        nom     marque  stock  \\\n",
       "0  663908ea39820962ca02bacb              Stylo à bille        Bic    150   \n",
       "1  663908ea39820962ca02bacc                  Cahier A5     Oxford     50   \n",
       "2  663908ea39820962ca02bacd         Marqueur permanent    Sharpie     75   \n",
       "3  663908ea39820962ca02bace  Calculatrice scientifique      Casio     30   \n",
       "4  663908ea39820962ca02bacf    Pack de 500 feuilles A4  Navigator    150   \n",
       "5  663908eb39820962ca02bad0              Ruban adhésif     Scotch     40   \n",
       "\n",
       "      categorie    prix  \n",
       "0      Écriture   1.250  \n",
       "1     Papeterie   2.500  \n",
       "2      Écriture   1.925  \n",
       "3  Électronique  15.000  \n",
       "4     Papeterie   5.000  \n",
       "5     Papeterie   3.750  "
      ]
     },
     "execution_count": 17,
     "metadata": {},
     "output_type": "execute_result"
    }
   ],
   "source": [
    "mongodf = pd.DataFrame(list(collection_jose.find()))\n",
    "mongodf.head(10)"
   ]
  },
  {
   "cell_type": "markdown",
   "metadata": {},
   "source": [
    "Si José veut regrouper tous les produits par marque et savoir combien chaque marque\n",
    "offre de types de produits, quelle requête d'agrégation devrait-il utiliser?"
   ]
  },
  {
   "cell_type": "code",
   "execution_count": 18,
   "metadata": {},
   "outputs": [
    {
     "data": {
      "text/html": [
       "<div>\n",
       "<style scoped>\n",
       "    .dataframe tbody tr th:only-of-type {\n",
       "        vertical-align: middle;\n",
       "    }\n",
       "\n",
       "    .dataframe tbody tr th {\n",
       "        vertical-align: top;\n",
       "    }\n",
       "\n",
       "    .dataframe thead th {\n",
       "        text-align: right;\n",
       "    }\n",
       "</style>\n",
       "<table border=\"1\" class=\"dataframe\">\n",
       "  <thead>\n",
       "    <tr style=\"text-align: right;\">\n",
       "      <th></th>\n",
       "      <th>marque</th>\n",
       "      <th>nombre de produit</th>\n",
       "    </tr>\n",
       "  </thead>\n",
       "  <tbody>\n",
       "    <tr>\n",
       "      <th>0</th>\n",
       "      <td>Bic</td>\n",
       "      <td>1</td>\n",
       "    </tr>\n",
       "    <tr>\n",
       "      <th>1</th>\n",
       "      <td>Casio</td>\n",
       "      <td>1</td>\n",
       "    </tr>\n",
       "    <tr>\n",
       "      <th>2</th>\n",
       "      <td>Navigator</td>\n",
       "      <td>1</td>\n",
       "    </tr>\n",
       "    <tr>\n",
       "      <th>3</th>\n",
       "      <td>Oxford</td>\n",
       "      <td>1</td>\n",
       "    </tr>\n",
       "    <tr>\n",
       "      <th>4</th>\n",
       "      <td>Scotch</td>\n",
       "      <td>1</td>\n",
       "    </tr>\n",
       "    <tr>\n",
       "      <th>5</th>\n",
       "      <td>Sharpie</td>\n",
       "      <td>1</td>\n",
       "    </tr>\n",
       "  </tbody>\n",
       "</table>\n",
       "</div>"
      ],
      "text/plain": [
       "      marque  nombre de produit\n",
       "0        Bic                  1\n",
       "1      Casio                  1\n",
       "2  Navigator                  1\n",
       "3     Oxford                  1\n",
       "4     Scotch                  1\n",
       "5    Sharpie                  1"
      ]
     },
     "execution_count": 18,
     "metadata": {},
     "output_type": "execute_result"
    }
   ],
   "source": [
    "mongodf = pd.DataFrame(list(collection_jose.find()))\n",
    "mongodf[['marque','nom']].groupby(by=['marque']).count().reset_index().rename(columns={'nom':'nombre de produit'})"
   ]
  },
  {
   "cell_type": "code",
   "execution_count": 19,
   "metadata": {},
   "outputs": [
    {
     "name": "stdout",
     "output_type": "stream",
     "text": [
      "{'_id': 'Sharpie', 'nb': 1}\n",
      "{'_id': 'Bic', 'nb': 1}\n",
      "{'_id': 'Oxford', 'nb': 1}\n",
      "{'_id': 'Navigator', 'nb': 1}\n",
      "{'_id': 'Scotch', 'nb': 1}\n",
      "{'_id': 'Casio', 'nb': 1}\n"
     ]
    }
   ],
   "source": [
    "#version mongo\n",
    "curseur_agreg = collection_jose.aggregate([\n",
    "      {'$group':{'_id': '$marque',\n",
    "              'nb': {'$sum': 1}}}\n",
    "])\n",
    "\n",
    "for ligne in curseur_agreg:\n",
    "    print(ligne)"
   ]
  },
  {
   "cell_type": "markdown",
   "metadata": {},
   "source": [
    "José veut vérifier les stocks bas et prévoir les commandes. Comment pourrait-il lister\n",
    "tous les produits ayant un stock inférieur à 40 unités?"
   ]
  },
  {
   "cell_type": "code",
   "execution_count": 20,
   "metadata": {},
   "outputs": [
    {
     "data": {
      "text/html": [
       "<div>\n",
       "<style scoped>\n",
       "    .dataframe tbody tr th:only-of-type {\n",
       "        vertical-align: middle;\n",
       "    }\n",
       "\n",
       "    .dataframe tbody tr th {\n",
       "        vertical-align: top;\n",
       "    }\n",
       "\n",
       "    .dataframe thead th {\n",
       "        text-align: right;\n",
       "    }\n",
       "</style>\n",
       "<table border=\"1\" class=\"dataframe\">\n",
       "  <thead>\n",
       "    <tr style=\"text-align: right;\">\n",
       "      <th></th>\n",
       "      <th>_id</th>\n",
       "      <th>nom</th>\n",
       "      <th>marque</th>\n",
       "      <th>stock</th>\n",
       "      <th>categorie</th>\n",
       "      <th>prix</th>\n",
       "    </tr>\n",
       "  </thead>\n",
       "  <tbody>\n",
       "    <tr>\n",
       "      <th>3</th>\n",
       "      <td>663908ea39820962ca02bace</td>\n",
       "      <td>Calculatrice scientifique</td>\n",
       "      <td>Casio</td>\n",
       "      <td>30</td>\n",
       "      <td>Électronique</td>\n",
       "      <td>15.0</td>\n",
       "    </tr>\n",
       "  </tbody>\n",
       "</table>\n",
       "</div>"
      ],
      "text/plain": [
       "                        _id                        nom marque  stock  \\\n",
       "3  663908ea39820962ca02bace  Calculatrice scientifique  Casio     30   \n",
       "\n",
       "      categorie  prix  \n",
       "3  Électronique  15.0  "
      ]
     },
     "execution_count": 20,
     "metadata": {},
     "output_type": "execute_result"
    }
   ],
   "source": [
    "mongodf[mongodf['stock']<40]"
   ]
  },
  {
   "cell_type": "code",
   "execution_count": 22,
   "metadata": {},
   "outputs": [
    {
     "name": "stdout",
     "output_type": "stream",
     "text": [
      "{'_id': ObjectId('663908ea39820962ca02bace'), 'nom': 'Calculatrice scientifique', 'marque': 'Casio', 'stock': 30, 'categorie': 'Électronique', 'prix': 15.0}\n"
     ]
    }
   ],
   "source": [
    "curseur = collection_jose.find({'stock':{'$lt':40}})\n",
    "\n",
    "for ligne in curseur:\n",
    "    print(ligne)"
   ]
  },
  {
   "cell_type": "markdown",
   "metadata": {},
   "source": [
    "Pour les besoins d'un audit, José doit extraire une liste de tous les produits avec leur\n",
    "prix mis à jour pour inclure une majoration de 5%. Comment peut-il accomplir cela sans\n",
    "modifier les données dans la base?"
   ]
  },
  {
   "cell_type": "code",
   "execution_count": 23,
   "metadata": {},
   "outputs": [
    {
     "data": {
      "text/html": [
       "<div>\n",
       "<style scoped>\n",
       "    .dataframe tbody tr th:only-of-type {\n",
       "        vertical-align: middle;\n",
       "    }\n",
       "\n",
       "    .dataframe tbody tr th {\n",
       "        vertical-align: top;\n",
       "    }\n",
       "\n",
       "    .dataframe thead th {\n",
       "        text-align: right;\n",
       "    }\n",
       "</style>\n",
       "<table border=\"1\" class=\"dataframe\">\n",
       "  <thead>\n",
       "    <tr style=\"text-align: right;\">\n",
       "      <th></th>\n",
       "      <th>_id</th>\n",
       "      <th>nom</th>\n",
       "      <th>marque</th>\n",
       "      <th>stock</th>\n",
       "      <th>categorie</th>\n",
       "      <th>prix</th>\n",
       "    </tr>\n",
       "  </thead>\n",
       "  <tbody>\n",
       "    <tr>\n",
       "      <th>0</th>\n",
       "      <td>663908ea39820962ca02bacb</td>\n",
       "      <td>Stylo à bille</td>\n",
       "      <td>Bic</td>\n",
       "      <td>150</td>\n",
       "      <td>Écriture</td>\n",
       "      <td>1.31250</td>\n",
       "    </tr>\n",
       "    <tr>\n",
       "      <th>1</th>\n",
       "      <td>663908ea39820962ca02bacc</td>\n",
       "      <td>Cahier A5</td>\n",
       "      <td>Oxford</td>\n",
       "      <td>50</td>\n",
       "      <td>Papeterie</td>\n",
       "      <td>2.62500</td>\n",
       "    </tr>\n",
       "    <tr>\n",
       "      <th>2</th>\n",
       "      <td>663908ea39820962ca02bacd</td>\n",
       "      <td>Marqueur permanent</td>\n",
       "      <td>Sharpie</td>\n",
       "      <td>75</td>\n",
       "      <td>Écriture</td>\n",
       "      <td>2.02125</td>\n",
       "    </tr>\n",
       "    <tr>\n",
       "      <th>3</th>\n",
       "      <td>663908ea39820962ca02bace</td>\n",
       "      <td>Calculatrice scientifique</td>\n",
       "      <td>Casio</td>\n",
       "      <td>30</td>\n",
       "      <td>Électronique</td>\n",
       "      <td>15.75000</td>\n",
       "    </tr>\n",
       "    <tr>\n",
       "      <th>4</th>\n",
       "      <td>663908ea39820962ca02bacf</td>\n",
       "      <td>Pack de 500 feuilles A4</td>\n",
       "      <td>Navigator</td>\n",
       "      <td>150</td>\n",
       "      <td>Papeterie</td>\n",
       "      <td>5.25000</td>\n",
       "    </tr>\n",
       "    <tr>\n",
       "      <th>5</th>\n",
       "      <td>663908eb39820962ca02bad0</td>\n",
       "      <td>Ruban adhésif</td>\n",
       "      <td>Scotch</td>\n",
       "      <td>40</td>\n",
       "      <td>Papeterie</td>\n",
       "      <td>3.93750</td>\n",
       "    </tr>\n",
       "  </tbody>\n",
       "</table>\n",
       "</div>"
      ],
      "text/plain": [
       "                        _id                        nom     marque  stock  \\\n",
       "0  663908ea39820962ca02bacb              Stylo à bille        Bic    150   \n",
       "1  663908ea39820962ca02bacc                  Cahier A5     Oxford     50   \n",
       "2  663908ea39820962ca02bacd         Marqueur permanent    Sharpie     75   \n",
       "3  663908ea39820962ca02bace  Calculatrice scientifique      Casio     30   \n",
       "4  663908ea39820962ca02bacf    Pack de 500 feuilles A4  Navigator    150   \n",
       "5  663908eb39820962ca02bad0              Ruban adhésif     Scotch     40   \n",
       "\n",
       "      categorie      prix  \n",
       "0      Écriture   1.31250  \n",
       "1     Papeterie   2.62500  \n",
       "2      Écriture   2.02125  \n",
       "3  Électronique  15.75000  \n",
       "4     Papeterie   5.25000  \n",
       "5     Papeterie   3.93750  "
      ]
     },
     "execution_count": 23,
     "metadata": {},
     "output_type": "execute_result"
    }
   ],
   "source": [
    "mongodb_prix_augmenter = mongodf.copy()\n",
    "mongodb_prix_augmenter['prix'] = mongodb_prix_augmenter['prix']*1.05\n",
    "mongodb_prix_augmenter.head(10)\n"
   ]
  },
  {
   "cell_type": "markdown",
   "metadata": {},
   "source": [
    "José veut supprimer définitivement les produits discontinués dont le stock est à 0.\n",
    "Quelle commande utiliserait-il?"
   ]
  },
  {
   "cell_type": "code",
   "execution_count": 24,
   "metadata": {},
   "outputs": [
    {
     "data": {
      "text/plain": [
       "DeleteResult({'n': 0, 'ok': 1.0}, acknowledged=True)"
      ]
     },
     "execution_count": 24,
     "metadata": {},
     "output_type": "execute_result"
    }
   ],
   "source": [
    "collection_jose.delete_many({'stock':{'$eq':0}})"
   ]
  },
  {
   "cell_type": "code",
   "execution_count": 25,
   "metadata": {},
   "outputs": [
    {
     "data": {
      "text/html": [
       "<div>\n",
       "<style scoped>\n",
       "    .dataframe tbody tr th:only-of-type {\n",
       "        vertical-align: middle;\n",
       "    }\n",
       "\n",
       "    .dataframe tbody tr th {\n",
       "        vertical-align: top;\n",
       "    }\n",
       "\n",
       "    .dataframe thead th {\n",
       "        text-align: right;\n",
       "    }\n",
       "</style>\n",
       "<table border=\"1\" class=\"dataframe\">\n",
       "  <thead>\n",
       "    <tr style=\"text-align: right;\">\n",
       "      <th></th>\n",
       "      <th>_id</th>\n",
       "      <th>nom</th>\n",
       "      <th>marque</th>\n",
       "      <th>stock</th>\n",
       "      <th>categorie</th>\n",
       "      <th>prix</th>\n",
       "    </tr>\n",
       "  </thead>\n",
       "  <tbody>\n",
       "    <tr>\n",
       "      <th>0</th>\n",
       "      <td>663908ea39820962ca02bacb</td>\n",
       "      <td>Stylo à bille</td>\n",
       "      <td>Bic</td>\n",
       "      <td>150</td>\n",
       "      <td>Écriture</td>\n",
       "      <td>1.250</td>\n",
       "    </tr>\n",
       "    <tr>\n",
       "      <th>1</th>\n",
       "      <td>663908ea39820962ca02bacc</td>\n",
       "      <td>Cahier A5</td>\n",
       "      <td>Oxford</td>\n",
       "      <td>50</td>\n",
       "      <td>Papeterie</td>\n",
       "      <td>2.500</td>\n",
       "    </tr>\n",
       "    <tr>\n",
       "      <th>2</th>\n",
       "      <td>663908ea39820962ca02bacd</td>\n",
       "      <td>Marqueur permanent</td>\n",
       "      <td>Sharpie</td>\n",
       "      <td>75</td>\n",
       "      <td>Écriture</td>\n",
       "      <td>1.925</td>\n",
       "    </tr>\n",
       "    <tr>\n",
       "      <th>3</th>\n",
       "      <td>663908ea39820962ca02bace</td>\n",
       "      <td>Calculatrice scientifique</td>\n",
       "      <td>Casio</td>\n",
       "      <td>30</td>\n",
       "      <td>Électronique</td>\n",
       "      <td>15.000</td>\n",
       "    </tr>\n",
       "    <tr>\n",
       "      <th>4</th>\n",
       "      <td>663908ea39820962ca02bacf</td>\n",
       "      <td>Pack de 500 feuilles A4</td>\n",
       "      <td>Navigator</td>\n",
       "      <td>150</td>\n",
       "      <td>Papeterie</td>\n",
       "      <td>5.000</td>\n",
       "    </tr>\n",
       "    <tr>\n",
       "      <th>5</th>\n",
       "      <td>663908eb39820962ca02bad0</td>\n",
       "      <td>Ruban adhésif</td>\n",
       "      <td>Scotch</td>\n",
       "      <td>40</td>\n",
       "      <td>Papeterie</td>\n",
       "      <td>3.750</td>\n",
       "    </tr>\n",
       "  </tbody>\n",
       "</table>\n",
       "</div>"
      ],
      "text/plain": [
       "                        _id                        nom     marque  stock  \\\n",
       "0  663908ea39820962ca02bacb              Stylo à bille        Bic    150   \n",
       "1  663908ea39820962ca02bacc                  Cahier A5     Oxford     50   \n",
       "2  663908ea39820962ca02bacd         Marqueur permanent    Sharpie     75   \n",
       "3  663908ea39820962ca02bace  Calculatrice scientifique      Casio     30   \n",
       "4  663908ea39820962ca02bacf    Pack de 500 feuilles A4  Navigator    150   \n",
       "5  663908eb39820962ca02bad0              Ruban adhésif     Scotch     40   \n",
       "\n",
       "      categorie    prix  \n",
       "0      Écriture   1.250  \n",
       "1     Papeterie   2.500  \n",
       "2      Écriture   1.925  \n",
       "3  Électronique  15.000  \n",
       "4     Papeterie   5.000  \n",
       "5     Papeterie   3.750  "
      ]
     },
     "execution_count": 25,
     "metadata": {},
     "output_type": "execute_result"
    }
   ],
   "source": [
    "mongodf = pd.DataFrame(list(collection_jose.find()))\n",
    "mongodf.head(10)"
   ]
  }
 ],
 "metadata": {
  "kernelspec": {
   "display_name": "venv",
   "language": "python",
   "name": "python3"
  },
  "language_info": {
   "codemirror_mode": {
    "name": "ipython",
    "version": 3
   },
   "file_extension": ".py",
   "mimetype": "text/x-python",
   "name": "python",
   "nbconvert_exporter": "python",
   "pygments_lexer": "ipython3",
   "version": "3.11.8"
  }
 },
 "nbformat": 4,
 "nbformat_minor": 2
}
